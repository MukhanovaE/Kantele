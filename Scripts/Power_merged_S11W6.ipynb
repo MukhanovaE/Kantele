{
 "cells": [
  {
   "cell_type": "code",
   "execution_count": 30,
   "id": "af8653ff",
   "metadata": {
    "ExecuteTime": {
     "end_time": "2025-03-13T16:03:07.932809Z",
     "start_time": "2025-03-13T16:03:07.922425Z"
    }
   },
   "outputs": [],
   "source": [
    "import numpy as np\n",
    "import matplotlib\n",
    "import matplotlib.pyplot as plt\n",
    "import os\n",
    "from scipy.io import loadmat, savemat\n",
    "from scipy.interpolate import interp1d\n",
    "\n",
    "def db2mag(db): return np.power(10, db/20)"
   ]
  },
  {
   "cell_type": "code",
   "execution_count": 31,
   "id": "f7f101be",
   "metadata": {
    "ExecuteTime": {
     "end_time": "2025-03-13T16:03:08.261293Z",
     "start_time": "2025-03-13T16:03:08.252289Z"
    }
   },
   "outputs": [
    {
     "name": "stdout",
     "output_type": "stream",
     "text": [
      "[0] -----------> S11W6\n",
      "[1] -----------> S5W2.7\n",
      "[2] -----------> S7W4\n"
     ]
    }
   ],
   "source": [
    "global_address = r\"C:\\Users\\mukha\\Documents\\Python Scripts\\Kantele\\Kantele_git\\Data\\Power_sweep\\Fitted_data\" \n",
    "sample_folders = os.listdir(global_address)\n",
    "for i in range(len(sample_folders)):\n",
    "    if \".PNG\" in sample_folders[i]: pass\n",
    "    else: \n",
    "        print(r\"[%d]\" %(i), '----------->', sample_folders[i]) "
   ]
  },
  {
   "cell_type": "markdown",
   "id": "58683880",
   "metadata": {},
   "source": [
    "<div style=\"text-align: center; font-size: 45px; color: blue;\">\n",
    "    S11W6\n",
    "</div>"
   ]
  },
  {
   "cell_type": "code",
   "execution_count": 32,
   "id": "9bb6ce71",
   "metadata": {
    "ExecuteTime": {
     "end_time": "2025-03-13T16:03:12.053143Z",
     "start_time": "2025-03-13T16:03:12.033697Z"
    }
   },
   "outputs": [
    {
     "name": "stdout",
     "output_type": "stream",
     "text": [
      "[0] -----------> 20db_room_att\n",
      "[1] -----------> High_power\n"
     ]
    }
   ],
   "source": [
    "sample = 0\n",
    "sample_address = global_address+\"\\\\\"+sample_folders[sample]\n",
    "sample_measurements = os.listdir(sample_address)\n",
    "for i in range(len(sample_measurements)):\n",
    "    if \".PNG\" in sample_measurements[i]: pass\n",
    "    else: \n",
    "        print(r\"[%d]\" %(i), '----------->', sample_measurements[i]) "
   ]
  },
  {
   "cell_type": "code",
   "execution_count": 27,
   "id": "3a2c0947",
   "metadata": {
    "ExecuteTime": {
     "end_time": "2025-03-13T15:55:26.724495Z",
     "start_time": "2025-03-13T15:55:26.252163Z"
    }
   },
   "outputs": [],
   "source": [
    "%matplotlib qt"
   ]
  },
  {
   "cell_type": "code",
   "execution_count": 33,
   "id": "5e10abab",
   "metadata": {
    "ExecuteTime": {
     "end_time": "2025-03-13T16:11:07.605712Z",
     "start_time": "2025-03-13T16:11:07.244657Z"
    }
   },
   "outputs": [],
   "source": [
    "resonator = 6\n",
    "\n",
    "plt.rcParams.update({\n",
    "    \"font.size\": 16,          # General font size\n",
    "    \"axes.labelsize\": 18,     # X and Y labels\n",
    "    \"axes.titlesize\": 20,     # Title size\n",
    "    \"xtick.labelsize\": 18,    # X-axis tick labels\n",
    "    \"ytick.labelsize\": 18,    # Y-axis tick labels\n",
    "    \"legend.fontsize\": 20,    # Legend font size\n",
    "})\n",
    "\n",
    "file_address = sample_address+\"\\\\\"+sample_measurements[0]+\"\\\\\"+\"Circlefit_res_\" + str(resonator) + \".mat\"\n",
    "mat = loadmat(file_address)\n",
    "\n",
    "resonanse_freq_low_p = mat['resonanse_freq'][0]\n",
    "resonanse_ql_low_p = mat['resonanse_ql'][0] \n",
    "resonanse_qc_low_p = mat['resonanse_qc'][0]\n",
    "resonanse_qi_low_p = mat['resonanse_qi'][0]\n",
    "resonanse_freq_err_low_p = mat['resonanse_freq_err'][0]\n",
    "resonanse_ql_err_low_p = mat['resonanse_ql_err'][0]\n",
    "resonanse_qc_err_low_p = mat['resonanse_qc_err'][0]\n",
    "resonanse_qi_err_low_p = mat['resonanse_qi_err'][0]\n",
    "\n",
    "good_powers_low_p = mat['good_powers'][0]\n",
    "\n",
    "file_address = sample_address+\"\\\\\"+sample_measurements[1]+\"\\\\\"+\"Circlefit_res_\" + str(resonator+1) + \".mat\"\n",
    "mat = loadmat(file_address)\n",
    "\n",
    "resonanse_freq_high_p = mat['resonanse_freq'][0]\n",
    "resonanse_ql_high_p = mat['resonanse_ql'][0] \n",
    "resonanse_qc_high_p = mat['resonanse_qc'][0]\n",
    "resonanse_qi_high_p = mat['resonanse_qi'][0]\n",
    "resonanse_freq_err_high_p = mat['resonanse_freq_err'][0]\n",
    "resonanse_ql_err_high_p = mat['resonanse_ql_err'][0]\n",
    "resonanse_qc_err_high_p = mat['resonanse_qc_err'][0]\n",
    "resonanse_qi_err_high_p = mat['resonanse_qi_err'][0]\n",
    "\n",
    "good_powers_high_p = mat['good_powers'][0]\n",
    "\n",
    "plt.rcParams.update({'font.size': 14})\n",
    "\n",
    "low_p_freq = np.mean(resonanse_freq_low_p[:10])\n",
    "                     \n",
    "fig, ax = plt.subplots(nrows=4, ncols=1, figsize=(15, 15), sharex = True) \n",
    "ax[0].errorbar(good_powers_low_p, (resonanse_freq_low_p-low_p_freq)/1e9*1e6, yerr=resonanse_freq_err_low_p/low_p_freq, fmt='o', label='Low', color='red', capsize=5)\n",
    "ax[0].errorbar(good_powers_high_p, (resonanse_freq_high_p-low_p_freq)/1e9*1e6, yerr=resonanse_freq_err_high_p/low_p_freq, fmt='o', label='High', color='green', capsize=5)\n",
    "ax[0].legend()\n",
    "ax[0].grid()\n",
    "ax[0].set_ylabel(r'$\\Delta f_r$, MHz')\n",
    "\n",
    "\n",
    "ax[1].grid()\n",
    "ax[1].errorbar(good_powers_low_p, resonanse_ql_low_p/1e5, yerr=resonanse_ql_err_low_p/1e5, fmt='o', label='Low', color='red', capsize=5)\n",
    "ax[1].errorbar(good_powers_high_p, resonanse_ql_high_p/1e5, yerr=resonanse_ql_err_high_p/1e5, fmt='o', label='High', color='green', capsize=5)\n",
    "ax[1].legend()\n",
    "ax[1].set_ylabel(r'$Q_l,  \\times 10^{5}$')\n",
    "\n",
    "ax[2].grid()\n",
    "ax[2].errorbar(good_powers_low_p, resonanse_qc_low_p/1e5, yerr=resonanse_qc_err_low_p/1e5, fmt='o', label='Low', color='red', capsize=5)\n",
    "ax[2].errorbar(good_powers_high_p, resonanse_qc_high_p/1e5, yerr=resonanse_qc_err_high_p/1e5, fmt='o', label='High', color='green', capsize=5)\n",
    "ax[2].legend()\n",
    "ax[2].set_ylabel(r'$Q_c, \\times 10^{5}$')\n",
    "\n",
    "\n",
    "ax[3].grid()\n",
    "ax[3].errorbar(good_powers_low_p, resonanse_qi_low_p/1e6, yerr=resonanse_qi_err_low_p/1e6, fmt='o', label='Low', color='red', capsize=5)\n",
    "ax[3].errorbar(good_powers_high_p, resonanse_qi_high_p/1e6, yerr=resonanse_qi_err_high_p/1e6, fmt='o', label='High', color='green', capsize=5)\n",
    "ax[3].legend()\n",
    "ax[3].set_ylabel(r'$Q_i, \\times 10^{6}$')\n",
    "ax[3].set_xlabel(r'Power, db')\n",
    "\n",
    "plt.tight_layout()\n",
    "plt.show()"
   ]
  },
  {
   "cell_type": "code",
   "execution_count": null,
   "id": "1b1e3724",
   "metadata": {},
   "outputs": [],
   "source": []
  },
  {
   "cell_type": "code",
   "execution_count": null,
   "id": "fc9c23b0",
   "metadata": {},
   "outputs": [],
   "source": []
  }
 ],
 "metadata": {
  "kernelspec": {
   "display_name": "Python 3",
   "language": "python",
   "name": "python3"
  },
  "language_info": {
   "codemirror_mode": {
    "name": "ipython",
    "version": 3
   },
   "file_extension": ".py",
   "mimetype": "text/x-python",
   "name": "python",
   "nbconvert_exporter": "python",
   "pygments_lexer": "ipython3",
   "version": "3.8.18"
  }
 },
 "nbformat": 4,
 "nbformat_minor": 5
}
