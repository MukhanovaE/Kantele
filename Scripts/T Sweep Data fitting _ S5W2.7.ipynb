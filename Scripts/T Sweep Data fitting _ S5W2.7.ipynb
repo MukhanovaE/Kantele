{
 "cells": [
  {
   "cell_type": "code",
   "execution_count": 45,
   "id": "1858e168",
   "metadata": {
    "ExecuteTime": {
     "end_time": "2025-05-28T10:30:09.290946Z",
     "start_time": "2025-05-28T10:30:09.282955Z"
    }
   },
   "outputs": [],
   "source": [
    "import numpy as np\n",
    "import matplotlib\n",
    "import matplotlib.pyplot as plt\n",
    "import os\n",
    "from scipy.io import loadmat, savemat\n",
    "from scipy.interpolate import interp1d\n",
    "import time\n",
    "from scipy.interpolate import CubicSpline\n",
    "def db2mag(db): return np.power(10, db/20)"
   ]
  },
  {
   "cell_type": "code",
   "execution_count": 46,
   "id": "cce38cef",
   "metadata": {
    "ExecuteTime": {
     "end_time": "2025-05-28T10:30:09.497398Z",
     "start_time": "2025-05-28T10:30:09.491397Z"
    }
   },
   "outputs": [],
   "source": [
    "# section for fitting. no need to install\n",
    "from resonator_tools import circuit\n",
    "from resonator_tools.circuit import notch_port"
   ]
  },
  {
   "cell_type": "markdown",
   "id": "68f17d99",
   "metadata": {},
   "source": [
    "<div style=\"text-align: center; font-size: 45px; color: blue;\">\n",
    "    S5W2.7\n",
    "</div>"
   ]
  },
  {
   "cell_type": "markdown",
   "id": "cd9035ad",
   "metadata": {},
   "source": [
    "# Fit"
   ]
  },
  {
   "cell_type": "code",
   "execution_count": 47,
   "id": "5705c753",
   "metadata": {
    "ExecuteTime": {
     "end_time": "2025-05-28T10:30:10.559516Z",
     "start_time": "2025-05-28T10:30:10.540356Z"
    }
   },
   "outputs": [
    {
     "name": "stdout",
     "output_type": "stream",
     "text": [
      "[0] -----------> S11W6\n",
      "[1] -----------> S18W11\n",
      "[2] -----------> S5W2.7\n",
      "[3] -----------> S7W4\n"
     ]
    }
   ],
   "source": [
    "global_address = r\"C:\\Users\\mukha\\Documents\\Python Scripts\\Kantele\\Kantele_git\\Data\\Temperature_sweep\\Raw_data\" \n",
    "sample_folders = os.listdir(global_address)\n",
    "for sample_i in range(len(sample_folders)):\n",
    "    if \".PNG\" in sample_folders[sample_i]: pass\n",
    "    else: \n",
    "        print(r\"[%d]\" %(sample_i), '----------->', sample_folders[sample_i]) "
   ]
  },
  {
   "cell_type": "code",
   "execution_count": 48,
   "id": "35c90456",
   "metadata": {
    "ExecuteTime": {
     "end_time": "2025-05-28T10:30:13.493301Z",
     "start_time": "2025-05-28T10:30:13.488301Z"
    }
   },
   "outputs": [
    {
     "name": "stdout",
     "output_type": "stream",
     "text": [
      "[0] -----------> Range_1\n",
      "[1] -----------> Range_3\n",
      "[2] -----------> Range_4\n"
     ]
    }
   ],
   "source": [
    "sample_i_selected = 2\n",
    "sample_address = global_address+\"\\\\\"+sample_folders[sample_i_selected]\n",
    "sample_measurements = os.listdir(sample_address)\n",
    "for meas_i in range(len(sample_measurements)):\n",
    "    if \".PNG\" in sample_measurements[meas_i]: pass\n",
    "    else: \n",
    "        print(r\"[%d]\" %(meas_i), '----------->', sample_measurements[meas_i]) "
   ]
  },
  {
   "cell_type": "code",
   "execution_count": 5,
   "id": "ac331f46",
   "metadata": {
    "ExecuteTime": {
     "end_time": "2025-05-27T16:08:23.078355Z",
     "start_time": "2025-05-27T16:08:23.052354Z"
    }
   },
   "outputs": [
    {
     "name": "stdout",
     "output_type": "stream",
     "text": [
      "[0] -----------> TEMP_SCAN_range_4_res_0.mat\n",
      "[1] -----------> TEMP_SCAN_range_4_res_1.mat\n",
      "[2] -----------> TEMP_SCAN_range_4_res_2.mat\n",
      "[3] -----------> TEMP_SCAN_range_4_res_3.mat\n",
      "[4] -----------> TEMP_SCAN_range_4_res_4.mat\n",
      "[5] -----------> TEMP_SCAN_range_4_res_5.mat\n",
      "[6] -----------> TEMP_SCAN_range_4_res_6.mat\n",
      "[7] -----------> TEMP_SCAN_range_4_res_7.mat\n",
      "[8] -----------> TEMP_SCAN_range_4_res_8.mat\n",
      "[9] -----------> TEMP_SCAN_range_4_res_9.mat\n"
     ]
    }
   ],
   "source": [
    "measurement_i_selected = 2\n",
    "sample_measurement_address = sample_address+\"\\\\\"+sample_measurements[measurement_i_selected]\n",
    "sample_measurement_data = os.listdir(sample_measurement_address)\n",
    "for i in range(len(sample_measurement_data)):\n",
    "    if \".PNG\" in sample_measurement_data[i]: pass\n",
    "    else: \n",
    "        print(r\"[%d]\" %(i), '----------->', sample_measurement_data[i]) "
   ]
  },
  {
   "cell_type": "code",
   "execution_count": 6,
   "id": "a30fea33",
   "metadata": {
    "ExecuteTime": {
     "end_time": "2025-05-27T16:08:25.238554Z",
     "start_time": "2025-05-27T16:08:25.201837Z"
    }
   },
   "outputs": [
    {
     "name": "stdout",
     "output_type": "stream",
     "text": [
      "Data\\Temperature_sweep\\Raw_data\\S5W2.7\\Range_4\\TEMP_SCAN_range_4_res_0.mat\n"
     ]
    },
    {
     "data": {
      "text/plain": [
       "dict_keys(['__header__', '__version__', '__globals__', 'add_att_inside', 'powers', 'vna', 'mags', 'phas', 'temps'])"
      ]
     },
     "execution_count": 6,
     "metadata": {},
     "output_type": "execute_result"
    }
   ],
   "source": [
    "resonator = 0\n",
    "file_address = sample_measurement_address+\"\\\\\"+sample_measurement_data[resonator]\n",
    "print(file_address[60:])\n",
    "mat = loadmat(file_address)\n",
    "mat.keys()"
   ]
  },
  {
   "cell_type": "code",
   "execution_count": 7,
   "id": "a19ec20b",
   "metadata": {
    "ExecuteTime": {
     "end_time": "2025-05-27T11:07:01.283844Z",
     "start_time": "2025-05-27T11:07:01.271843Z"
    }
   },
   "outputs": [
    {
     "name": "stdout",
     "output_type": "stream",
     "text": [
      "20\n",
      "[(array([[4.6125451e+09]]), array([[300000.]]), array([[4.6123951e+09]]), array([[4.6126951e+09]]), array([[2001]]), array([[18.5]]), array([[20]]), array([[-30]]), array([[0]]), array([[1]]))]\n",
      "2001\n",
      "-30.0\n",
      "(52, 2001)\n",
      "(52, 2001)\n",
      "(52, 2001)\n"
     ]
    }
   ],
   "source": [
    "print(mat['add_att_inside'][0][0])\n",
    "print(mat['vna'][0])\n",
    "start_freq = mat['vna'][0][0][2][0][0]\n",
    "stop_freq = mat['vna'][0][0][3][0][0]\n",
    "nop = mat['vna'][0][0][4][0][0]\n",
    "freqs = np.linspace(start_freq, stop_freq, nop)\n",
    "print(len(freqs))\n",
    "power = mat['powers'][0][0]\n",
    "print(power)\n",
    "phas = mat['phas'][:,:nop]\n",
    "print(phas.shape)\n",
    "mags = mat['mags'][:,:nop]\n",
    "print(mags.shape)\n",
    "temps = mat['temps'][0]\n",
    "print(mags.shape)"
   ]
  },
  {
   "cell_type": "code",
   "execution_count": 33,
   "id": "96ab388d",
   "metadata": {
    "ExecuteTime": {
     "end_time": "2025-05-26T12:32:56.366055Z",
     "start_time": "2025-05-26T12:32:56.356471Z"
    }
   },
   "outputs": [
    {
     "data": {
      "text/plain": [
       "array([1.10847, 1.10847, 1.10847, 1.47218, 1.54449, 1.54464, 1.54464,\n",
       "       1.72011])"
      ]
     },
     "execution_count": 33,
     "metadata": {},
     "output_type": "execute_result"
    }
   ],
   "source": [
    "temps"
   ]
  },
  {
   "cell_type": "code",
   "execution_count": 36,
   "id": "79a0ea13",
   "metadata": {
    "ExecuteTime": {
     "end_time": "2025-05-26T12:33:10.194134Z",
     "start_time": "2025-05-26T12:33:09.663989Z"
    },
    "scrolled": false
   },
   "outputs": [
    {
     "data": {
      "image/png": "[encoded data removed]",
      "text/plain": [
       "<Figure size 1296x432 with 3 Axes>"
      ]
     },
     "metadata": {
      "needs_background": "light"
     },
     "output_type": "display_data"
    },
    {
     "data": {
      "text/plain": [
       "{'Qi_dia_corr': 1405183.7502538466,\n",
       " 'Qi_no_corr': 1408368.6953991011,\n",
       " 'absQc': 6128208.071720275,\n",
       " 'Qc_dia_corr': 6189249.397875652,\n",
       " 'Ql': 1145185.2311459666,\n",
       " 'fr': 4612533046.621217,\n",
       " 'theta0': 3.001031417226313,\n",
       " 'phi0': -0.1405612363634804,\n",
       " 'phi0_err': 0.007745615983542365,\n",
       " 'Ql_err': 11255.959777294498,\n",
       " 'absQc_err': 41410.920324065606,\n",
       " 'fr_err': 21.38840717130252,\n",
       " 'chi_square': 3.4908340993520616e-05,\n",
       " 'Qi_no_corr_err': 15712.036170268195,\n",
       " 'Qi_dia_corr_err': 15665.456801138898}"
      ]
     },
     "execution_count": 36,
     "metadata": {},
     "output_type": "execute_result"
    }
   ],
   "source": [
    "# testing fit\n",
    "# %matplotlib qt\n",
    "power_num = -1\n",
    "S21 = db2mag(mags[power_num])*np.exp(1j*(phas[power_num]))\n",
    "port1 = notch_port(freqs, S21)\n",
    "port1.autofit()\n",
    "port1.plotall()\n",
    "port1.fitresults"
   ]
  },
  {
   "cell_type": "markdown",
   "id": "8c9a385c",
   "metadata": {},
   "source": [
    "# Fit all powers for all resonators"
   ]
  },
  {
   "cell_type": "code",
   "execution_count": 41,
   "id": "07677254",
   "metadata": {
    "ExecuteTime": {
     "end_time": "2025-05-27T16:31:23.712544Z",
     "start_time": "2025-05-27T16:31:23.670739Z"
    }
   },
   "outputs": [],
   "source": [
    "%matplotlib qt"
   ]
  },
  {
   "cell_type": "code",
   "execution_count": 42,
   "id": "8248784d",
   "metadata": {
    "ExecuteTime": {
     "end_time": "2025-05-27T16:31:28.612706Z",
     "start_time": "2025-05-27T16:31:24.353678Z"
    },
    "scrolled": true
   },
   "outputs": [
    {
     "name": "stdout",
     "output_type": "stream",
     "text": [
      "NEW RESONATOR -->  9\n",
      "Data\\Temperature_sweep\\Raw_data\\S5W2.7\\Range_4\\TEMP_SCAN_range_4_res_9.mat\n",
      "0 --> NEW TEMP: 1.40504\n",
      "---> Just plotted\n",
      "Fatal error\n",
      "1 --> NEW TEMP: 1.40504\n",
      "2.439252208334408\n",
      "-------> 1st Fit\n",
      "2 --> NEW TEMP: 1.40504\n",
      "2.439252208334408\n",
      "-------> 1st Fit\n",
      "3 --> NEW TEMP: 1.46528\n"
     ]
    },
    {
     "name": "stderr",
     "output_type": "stream",
     "text": [
      "C:\\Users\\mukha\\Documents\\Python Scripts\\Kantele\\Kantele_git\\Scripts\\resonator_tools\\circuit.py:304: RuntimeWarning: invalid value encountered in divide\n",
      "  z_data = z_data/maxval\n"
     ]
    },
    {
     "name": "stdout",
     "output_type": "stream",
     "text": [
      "2.439262212962044\n",
      "-------> 1st Fit\n",
      "4 --> NEW TEMP: 1.54464\n",
      "2.439250085839433\n",
      "-------> 1st Fit\n",
      "5 --> NEW TEMP: 1.7099\n",
      "2.4392615751845987\n",
      "-------> 1st Fit\n",
      "6 --> NEW TEMP: 1.72833\n",
      "2.4392447035324434\n",
      "-------> 1st Fit\n",
      "7 --> NEW TEMP: 1.9\n",
      "New fit\n",
      "8 --> NEW TEMP: 1.9\n",
      "2.4392715538113183\n",
      "-------> 1st Fit\n",
      "9 --> NEW TEMP: 2.0\n",
      "2.4391909695951517\n",
      "-------> 1st Fit\n",
      "10 --> NEW TEMP: 2.1\n",
      "2.439250635608131\n",
      "-------> 1st Fit\n",
      "11 --> NEW TEMP: 2.2\n",
      "2.439247068368707\n",
      "-------> 1st Fit\n",
      "12 --> NEW TEMP: 2.3\n",
      "2.439242814512327\n",
      "-------> 1st Fit\n",
      "13 --> NEW TEMP: 2.42\n",
      "New fit\n",
      "14 --> NEW TEMP: 2.42\n",
      "2.439230304223427\n"
     ]
    },
    {
     "name": "stderr",
     "output_type": "stream",
     "text": [
      "C:\\Users\\mukha\\Anaconda3\\lib\\site-packages\\scipy\\optimize\\_minpack_py.py:881: OptimizeWarning: Covariance of the parameters could not be estimated\n",
      "  warnings.warn('Covariance of the parameters could not be estimated',\n"
     ]
    },
    {
     "name": "stdout",
     "output_type": "stream",
     "text": [
      "-------> 1st Fit\n",
      "15 --> NEW TEMP: 2.42\n",
      "2.439179909457528\n",
      "-------> 1st Fit\n",
      "16 --> NEW TEMP: 2.42\n",
      "2.43917959740737\n",
      "-------> 1st Fit\n",
      "17 --> NEW TEMP: 2.42\n",
      "2.4391829525131614\n",
      "-------> 1st Fit\n",
      "18 --> NEW TEMP: 2.45\n",
      "2.4391847781066645\n",
      "-------> 1st Fit\n",
      "19 --> NEW TEMP: 2.5\n",
      "2.4392059680903913\n",
      "-------> 1st Fit\n",
      "20 --> NEW TEMP: 2.5\n",
      "2.4392479686206183\n",
      "-------> 1st Fit\n",
      "21 --> NEW TEMP: 2.6\n",
      "2.4392781576087454\n"
     ]
    },
    {
     "name": "stderr",
     "output_type": "stream",
     "text": [
      "C:\\Users\\mukha\\Anaconda3\\lib\\site-packages\\scipy\\optimize\\_minpack_py.py:175: RuntimeWarning: The iteration is not making good progress, as measured by the \n",
      "  improvement from the last ten iterations.\n",
      "  warnings.warn(msg, RuntimeWarning)\n",
      "<ipython-input-42-f2b7340e21a6>:66: RuntimeWarning: More than 20 figures have been opened. Figures created through the pyplot interface (`matplotlib.pyplot.figure`) are retained until explicitly closed and may consume too much memory. (To control this warning, see the rcParam `figure.max_open_warning`).\n",
      "  fig, ax = plt.subplots(nrows=1, ncols=2, figsize=(15, 7), sharex = True)\n",
      "C:\\Users\\mukha\\Anaconda3\\lib\\site-packages\\scipy\\optimize\\_minpack_py.py:175: RuntimeWarning: The iteration is not making good progress, as measured by the \n",
      "  improvement from the last five Jacobian evaluations.\n",
      "  warnings.warn(msg, RuntimeWarning)\n"
     ]
    },
    {
     "name": "stdout",
     "output_type": "stream",
     "text": [
      "-------> 1st Fit\n",
      "22 --> NEW TEMP: 2.6\n",
      "2.439266303836609\n",
      "-------> 1st Fit\n",
      "23 --> NEW TEMP: 2.6\n",
      "2.4392666724334138\n",
      "-------> 1st Fit\n",
      "24 --> NEW TEMP: 2.7\n"
     ]
    },
    {
     "name": "stderr",
     "output_type": "stream",
     "text": [
      "C:\\Users\\mukha\\Anaconda3\\lib\\site-packages\\scipy\\optimize\\_minpack_py.py:175: RuntimeWarning: The iteration is not making good progress, as measured by the \n",
      "  improvement from the last ten iterations.\n",
      "  warnings.warn(msg, RuntimeWarning)\n",
      "C:\\Users\\mukha\\Anaconda3\\lib\\site-packages\\scipy\\optimize\\_minpack_py.py:175: RuntimeWarning: The iteration is not making good progress, as measured by the \n",
      "  improvement from the last five Jacobian evaluations.\n",
      "  warnings.warn(msg, RuntimeWarning)\n",
      "C:\\Users\\mukha\\Anaconda3\\lib\\site-packages\\scipy\\optimize\\_minpack_py.py:175: RuntimeWarning: The iteration is not making good progress, as measured by the \n",
      "  improvement from the last ten iterations.\n",
      "  warnings.warn(msg, RuntimeWarning)\n"
     ]
    },
    {
     "name": "stdout",
     "output_type": "stream",
     "text": [
      "2.4392748543921945\n",
      "-------> 1st Fit\n",
      "25 --> NEW TEMP: 2.7\n",
      "2.439260444571973\n",
      "-------> 1st Fit\n",
      "26 --> NEW TEMP: 2.7\n",
      "New fit\n"
     ]
    },
    {
     "name": "stderr",
     "output_type": "stream",
     "text": [
      "C:\\Users\\mukha\\Anaconda3\\lib\\site-packages\\scipy\\optimize\\_minpack_py.py:175: RuntimeWarning: The iteration is not making good progress, as measured by the \n",
      "  improvement from the last ten iterations.\n",
      "  warnings.warn(msg, RuntimeWarning)\n",
      "C:\\Users\\mukha\\Anaconda3\\lib\\site-packages\\scipy\\optimize\\_minpack_py.py:175: RuntimeWarning: The iteration is not making good progress, as measured by the \n",
      "  improvement from the last ten iterations.\n",
      "  warnings.warn(msg, RuntimeWarning)\n"
     ]
    },
    {
     "name": "stdout",
     "output_type": "stream",
     "text": [
      "2.4392574348048655\n",
      "-------> 2nd Fit\n",
      "27 --> NEW TEMP: 2.8\n",
      "2.4392352981245136\n",
      "-------> 1st Fit\n",
      "28 --> NEW TEMP: 2.8\n",
      "---> Just plotted\n"
     ]
    },
    {
     "name": "stderr",
     "output_type": "stream",
     "text": [
      "C:\\Users\\mukha\\Anaconda3\\lib\\site-packages\\scipy\\optimize\\_minpack_py.py:175: RuntimeWarning: The iteration is not making good progress, as measured by the \n",
      "  improvement from the last ten iterations.\n",
      "  warnings.warn(msg, RuntimeWarning)\n",
      "C:\\Users\\mukha\\Anaconda3\\lib\\site-packages\\scipy\\optimize\\_minpack_py.py:175: RuntimeWarning: The iteration is not making good progress, as measured by the \n",
      "  improvement from the last ten iterations.\n",
      "  warnings.warn(msg, RuntimeWarning)\n",
      "C:\\Users\\mukha\\Documents\\Python Scripts\\Kantele\\Kantele_git\\Scripts\\resonator_tools\\circlefit.py:165: RuntimeWarning: invalid value encountered in sqrt\n",
      "  r0 = 1./(2.*np.absolute(A_vec[0]))*np.sqrt(A_vec[1]*A_vec[1]+A_vec[2]*A_vec[2]-4.*A_vec[0]*A_vec[3])\n",
      "C:\\Users\\mukha\\Anaconda3\\lib\\site-packages\\scipy\\optimize\\_minpack_py.py:175: RuntimeWarning: The iteration is not making good progress, as measured by the \n",
      "  improvement from the last ten iterations.\n",
      "  warnings.warn(msg, RuntimeWarning)\n",
      "C:\\Users\\mukha\\Documents\\Python Scripts\\Kantele\\Kantele_git\\Scripts\\resonator_tools\\circlefit.py:165: RuntimeWarning: invalid value encountered in sqrt\n",
      "  r0 = 1./(2.*np.absolute(A_vec[0]))*np.sqrt(A_vec[1]*A_vec[1]+A_vec[2]*A_vec[2]-4.*A_vec[0]*A_vec[3])\n"
     ]
    },
    {
     "name": "stdout",
     "output_type": "stream",
     "text": [
      "29 --> NEW TEMP: 2.9\n",
      "2.4392106459008076\n",
      "-------> 1st Fit\n",
      "30 --> NEW TEMP: 2.9\n",
      "---> Just plotted\n",
      "31 --> NEW TEMP: 2.9\n"
     ]
    },
    {
     "name": "stderr",
     "output_type": "stream",
     "text": [
      "C:\\Users\\mukha\\Anaconda3\\lib\\site-packages\\scipy\\optimize\\_minpack_py.py:175: RuntimeWarning: The iteration is not making good progress, as measured by the \n",
      "  improvement from the last ten iterations.\n",
      "  warnings.warn(msg, RuntimeWarning)\n",
      "C:\\Users\\mukha\\Documents\\Python Scripts\\Kantele\\Kantele_git\\Scripts\\resonator_tools\\circlefit.py:165: RuntimeWarning: invalid value encountered in sqrt\n",
      "  r0 = 1./(2.*np.absolute(A_vec[0]))*np.sqrt(A_vec[1]*A_vec[1]+A_vec[2]*A_vec[2]-4.*A_vec[0]*A_vec[3])\n",
      "C:\\Users\\mukha\\Anaconda3\\lib\\site-packages\\scipy\\optimize\\_minpack_py.py:175: RuntimeWarning: The iteration is not making good progress, as measured by the \n",
      "  improvement from the last five Jacobian evaluations.\n",
      "  warnings.warn(msg, RuntimeWarning)\n",
      "C:\\Users\\mukha\\Documents\\Python Scripts\\Kantele\\Kantele_git\\Scripts\\resonator_tools\\circlefit.py:165: RuntimeWarning: invalid value encountered in sqrt\n",
      "  r0 = 1./(2.*np.absolute(A_vec[0]))*np.sqrt(A_vec[1]*A_vec[1]+A_vec[2]*A_vec[2]-4.*A_vec[0]*A_vec[3])\n",
      "C:\\Users\\mukha\\Anaconda3\\lib\\site-packages\\scipy\\optimize\\_minpack_py.py:175: RuntimeWarning: The iteration is not making good progress, as measured by the \n",
      "  improvement from the last ten iterations.\n",
      "  warnings.warn(msg, RuntimeWarning)\n",
      "C:\\Users\\mukha\\Anaconda3\\lib\\site-packages\\scipy\\optimize\\_minpack_py.py:175: RuntimeWarning: The iteration is not making good progress, as measured by the \n",
      "  improvement from the last five Jacobian evaluations.\n",
      "  warnings.warn(msg, RuntimeWarning)\n",
      "C:\\Users\\mukha\\Anaconda3\\lib\\site-packages\\scipy\\optimize\\_minpack_py.py:175: RuntimeWarning: The iteration is not making good progress, as measured by the \n",
      "  improvement from the last ten iterations.\n",
      "  warnings.warn(msg, RuntimeWarning)\n"
     ]
    },
    {
     "name": "stdout",
     "output_type": "stream",
     "text": [
      "---> Just plotted\n",
      "32 --> NEW TEMP: 3.0\n",
      "New fit\n",
      "33 --> NEW TEMP: 3.0\n"
     ]
    },
    {
     "name": "stderr",
     "output_type": "stream",
     "text": [
      "C:\\Users\\mukha\\Anaconda3\\lib\\site-packages\\scipy\\optimize\\_minpack_py.py:881: OptimizeWarning: Covariance of the parameters could not be estimated\n",
      "  warnings.warn('Covariance of the parameters could not be estimated',\n",
      "C:\\Users\\mukha\\Documents\\Python Scripts\\Kantele\\Kantele_git\\Scripts\\resonator_tools\\circlefit.py:165: RuntimeWarning: invalid value encountered in sqrt\n",
      "  r0 = 1./(2.*np.absolute(A_vec[0]))*np.sqrt(A_vec[1]*A_vec[1]+A_vec[2]*A_vec[2]-4.*A_vec[0]*A_vec[3])\n",
      "C:\\Users\\mukha\\Anaconda3\\lib\\site-packages\\scipy\\optimize\\_minpack_py.py:175: RuntimeWarning: The iteration is not making good progress, as measured by the \n",
      "  improvement from the last ten iterations.\n",
      "  warnings.warn(msg, RuntimeWarning)\n",
      "C:\\Users\\mukha\\Anaconda3\\lib\\site-packages\\scipy\\optimize\\_minpack_py.py:175: RuntimeWarning: The iteration is not making good progress, as measured by the \n",
      "  improvement from the last ten iterations.\n",
      "  warnings.warn(msg, RuntimeWarning)\n",
      "C:\\Users\\mukha\\Anaconda3\\lib\\site-packages\\scipy\\optimize\\_minpack_py.py:175: RuntimeWarning: The iteration is not making good progress, as measured by the \n",
      "  improvement from the last five Jacobian evaluations.\n",
      "  warnings.warn(msg, RuntimeWarning)\n",
      "C:\\Users\\mukha\\Documents\\Python Scripts\\Kantele\\Kantele_git\\Scripts\\resonator_tools\\circlefit.py:165: RuntimeWarning: invalid value encountered in sqrt\n",
      "  r0 = 1./(2.*np.absolute(A_vec[0]))*np.sqrt(A_vec[1]*A_vec[1]+A_vec[2]*A_vec[2]-4.*A_vec[0]*A_vec[3])\n",
      "C:\\Users\\mukha\\Anaconda3\\lib\\site-packages\\scipy\\optimize\\_minpack_py.py:175: RuntimeWarning: The iteration is not making good progress, as measured by the \n",
      "  improvement from the last five Jacobian evaluations.\n",
      "  warnings.warn(msg, RuntimeWarning)\n",
      "C:\\Users\\mukha\\Documents\\Python Scripts\\Kantele\\Kantele_git\\Scripts\\resonator_tools\\circlefit.py:165: RuntimeWarning: invalid value encountered in sqrt\n",
      "  r0 = 1./(2.*np.absolute(A_vec[0]))*np.sqrt(A_vec[1]*A_vec[1]+A_vec[2]*A_vec[2]-4.*A_vec[0]*A_vec[3])\n",
      "C:\\Users\\mukha\\Anaconda3\\lib\\site-packages\\scipy\\optimize\\_minpack_py.py:175: RuntimeWarning: The iteration is not making good progress, as measured by the \n",
      "  improvement from the last ten iterations.\n",
      "  warnings.warn(msg, RuntimeWarning)\n"
     ]
    },
    {
     "name": "stdout",
     "output_type": "stream",
     "text": [
      "---> Just plotted\n",
      "34 --> NEW TEMP: 3.0\n",
      "---> Just plotted\n",
      "35 --> NEW TEMP: 3.2\n",
      "---> Just plotted\n",
      "36 --> NEW TEMP: 3.2\n",
      "2.439173204866136\n",
      "-------> 1st Fit\n",
      "37 --> NEW TEMP: 3.2\n",
      "2.4391744008909377\n",
      "-------> 1st Fit\n",
      "38 --> NEW TEMP: 3.2\n",
      "2.439183002487085\n"
     ]
    },
    {
     "name": "stderr",
     "output_type": "stream",
     "text": [
      "C:\\Users\\mukha\\Anaconda3\\lib\\site-packages\\scipy\\optimize\\_minpack_py.py:175: RuntimeWarning: The iteration is not making good progress, as measured by the \n",
      "  improvement from the last ten iterations.\n",
      "  warnings.warn(msg, RuntimeWarning)\n",
      "C:\\Users\\mukha\\Anaconda3\\lib\\site-packages\\scipy\\optimize\\_minpack_py.py:175: RuntimeWarning: The iteration is not making good progress, as measured by the \n",
      "  improvement from the last ten iterations.\n",
      "  warnings.warn(msg, RuntimeWarning)\n",
      "C:\\Users\\mukha\\Anaconda3\\lib\\site-packages\\scipy\\optimize\\_minpack_py.py:175: RuntimeWarning: The iteration is not making good progress, as measured by the \n",
      "  improvement from the last ten iterations.\n",
      "  warnings.warn(msg, RuntimeWarning)\n",
      "C:\\Users\\mukha\\Anaconda3\\lib\\site-packages\\scipy\\optimize\\_minpack_py.py:175: RuntimeWarning: The iteration is not making good progress, as measured by the \n",
      "  improvement from the last five Jacobian evaluations.\n",
      "  warnings.warn(msg, RuntimeWarning)\n",
      "C:\\Users\\mukha\\Documents\\Python Scripts\\Kantele\\Kantele_git\\Scripts\\resonator_tools\\circlefit.py:165: RuntimeWarning: invalid value encountered in sqrt\n",
      "  r0 = 1./(2.*np.absolute(A_vec[0]))*np.sqrt(A_vec[1]*A_vec[1]+A_vec[2]*A_vec[2]-4.*A_vec[0]*A_vec[3])\n"
     ]
    },
    {
     "name": "stdout",
     "output_type": "stream",
     "text": [
      "-------> 1st Fit\n",
      "39 --> NEW TEMP: 3.2\n",
      "2.4391798591279583\n",
      "-------> 1st Fit\n",
      "40 --> NEW TEMP: 3.96865\n",
      "New fit\n",
      "Fatal error\n"
     ]
    },
    {
     "name": "stderr",
     "output_type": "stream",
     "text": [
      "C:\\Users\\mukha\\Anaconda3\\lib\\site-packages\\scipy\\optimize\\_minpack_py.py:175: RuntimeWarning: The iteration is not making good progress, as measured by the \n",
      "  improvement from the last ten iterations.\n",
      "  warnings.warn(msg, RuntimeWarning)\n",
      "C:\\Users\\mukha\\Anaconda3\\lib\\site-packages\\scipy\\optimize\\_minpack_py.py:175: RuntimeWarning: The iteration is not making good progress, as measured by the \n",
      "  improvement from the last ten iterations.\n",
      "  warnings.warn(msg, RuntimeWarning)\n",
      "C:\\Users\\mukha\\Anaconda3\\lib\\site-packages\\scipy\\optimize\\_minpack_py.py:175: RuntimeWarning: The iteration is not making good progress, as measured by the \n",
      "  improvement from the last five Jacobian evaluations.\n",
      "  warnings.warn(msg, RuntimeWarning)\n",
      "C:\\Users\\mukha\\Documents\\Python Scripts\\Kantele\\Kantele_git\\Scripts\\resonator_tools\\circlefit.py:165: RuntimeWarning: invalid value encountered in sqrt\n",
      "  r0 = 1./(2.*np.absolute(A_vec[0]))*np.sqrt(A_vec[1]*A_vec[1]+A_vec[2]*A_vec[2]-4.*A_vec[0]*A_vec[3])\n"
     ]
    }
   ],
   "source": [
    "for ii in range(1):\n",
    "    print(\"NEW RESONATOR --> \", resonator)\n",
    "    resonator = 9\n",
    "    file_address_loop = sample_measurement_address+\"\\\\\"+sample_measurement_data[resonator]\n",
    "    print(file_address_loop[60:])\n",
    "    mat = loadmat(file_address_loop)\n",
    "    temps = mat['temps'][0]\n",
    "\n",
    "    start_freq = mat['vna'][0][0][2][0][0]\n",
    "    stop_freq = mat['vna'][0][0][3][0][0]\n",
    "    nop = mat['vna'][0][0][4][0][0]\n",
    "    freqs = np.linspace(start_freq, stop_freq, nop)\n",
    "    phas = mat['phas'][:,:nop]\n",
    "    mags = mat['mags'][:,:nop]\n",
    "    \n",
    "\n",
    "    resonanse_freq = np.array([])\n",
    "    resonanse_ql = np.array([])\n",
    "    resonanse_qc = np.array([])\n",
    "    resonanse_qi = np.array([])\n",
    "\n",
    "    resonanse_freq_err = np.array([])\n",
    "    resonanse_ql_err = np.array([])\n",
    "    resonanse_qc_err = np.array([])\n",
    "    resonanse_qi_err = np.array([])\n",
    "\n",
    "    good_temps = np.array([])\n",
    "    for p in range(len(temps)):\n",
    "        print(p, '--> NEW TEMP:', temps[p])\n",
    "        mags_to_plot = mags[p]\n",
    "        idx_cut = 0\n",
    "        while mags_to_plot[idx_cut]<0 and idx_cut<len(mags_to_plot)-1:\n",
    "            idx_cut = idx_cut+1\n",
    "        mags_to_plot = mags_to_plot[:idx_cut]\n",
    "        phas_to_plot = (phas[p])[:idx_cut]\n",
    "        freqs_to_plot = freqs[:idx_cut]\n",
    "      \n",
    "        try:\n",
    "            if db2mag(mags[p][0]) != 1: \n",
    "                S21 = db2mag(mags_to_plot)*np.exp(1j*(phas_to_plot))\n",
    "                port1 = notch_port(freqs_to_plot, S21)\n",
    "                port1.autofit()\n",
    "    #             port1.plotall()\n",
    "\n",
    "                if (port1.fitresults['Ql_err']/port1.fitresults['Ql']<0.3 \n",
    "                    and port1.fitresults['Ql_err']<1e11\n",
    "                    and port1.fitresults['Ql']<1e7\n",
    "                    and port1.fitresults['Ql']>0 \n",
    "                    and port1.fitresults['Qi_no_corr']>0\n",
    "                    and port1.fitresults['absQc']>0):\n",
    "\n",
    "                    good_temps = np.append(good_temps, temps[p])\n",
    "                    resonanse_freq = np.append(resonanse_freq, port1.fitresults['fr'])\n",
    "                    resonanse_ql = np.append(resonanse_ql, port1.fitresults['Ql'])\n",
    "                    resonanse_qc = np.append(resonanse_qc, port1.fitresults['absQc'])\n",
    "                    resonanse_qi = np.append(resonanse_qi, port1.fitresults['Qi_no_corr'])\n",
    "\n",
    "                    resonanse_freq_err = np.append(resonanse_freq_err, port1.fitresults['fr_err'])\n",
    "                    resonanse_ql_err = np.append(resonanse_ql_err, port1.fitresults['Ql_err'])\n",
    "                    resonanse_qc_err = np.append(resonanse_qc_err, port1.fitresults['absQc_err'])\n",
    "                    resonanse_qi_err = np.append(resonanse_qi_err, port1.fitresults['Qi_no_corr_err'])\n",
    "                    print(port1.fitresults['fr']/1e9-4.6125)\n",
    "\n",
    "                    try:\n",
    "                        if len(freqs) > 0 and len(mags[p]) > 0:\n",
    "                            fig, ax = plt.subplots(nrows=1, ncols=2, figsize=(15, 7), sharex = True) \n",
    "                            ax[0].set_ylabel(f\"TEMP: {temps[p]}\")\n",
    "                            ax[0].plot(freqs_to_plot, mags_to_plot)\n",
    "                            ax[1].plot(freqs_to_plot, phas_to_plot)\n",
    "                            ax[0].axvline(x=port1.fitresults['fr'], color='r', linestyle='--')\n",
    "                            ax[0].grid()\n",
    "                            ax[1].grid()\n",
    "        #                   time.sleep(1)\n",
    "                            print(\"-------> 1st Fit\")\n",
    "                    except:\n",
    "                        print(\"Fatal error\")\n",
    "                else: \n",
    "                    try:\n",
    "                        if len(freqs) > 0 and len(mags[p]) > 0:\n",
    "                            mags_to_plot = mags[p]\n",
    "                            idx_cut = 0\n",
    "                            while mags_to_plot[idx_cut]<0 and idx_cut<len(mags_to_plot)-1:\n",
    "                                idx_cut = idx_cut+1\n",
    "                            mags_to_plot = mags_to_plot[:idx_cut]\n",
    "                            phas_to_plot = (phas[p])[:idx_cut]\n",
    "                            freqs_to_plot = freqs[:idx_cut]\n",
    "                            \n",
    "                            cs = CubicSpline(freqs_to_plot, mags_to_plot)\n",
    "                            freqs_to_plot_sp = np.linspace(freqs_to_plot.min(), freqs_to_plot.max(), 600)\n",
    "                            mags_to_plot_sp = cs(freqs_to_plot_sp)\n",
    "                            \n",
    "                            cs = CubicSpline(freqs_to_plot, phas_to_plot)\n",
    "                            freqs_to_plot_sp = np.linspace(freqs_to_plot.min(), freqs_to_plot.max(), 600)\n",
    "                            phas_to_plot_sp = cs(freqs_to_plot_sp)\n",
    "                            \n",
    "                            try:\n",
    "                                if db2mag(mags[p][0]) != 1: \n",
    "                                    S21 = db2mag(mags_to_plot_sp)*np.exp(1j*(phas_to_plot_sp))\n",
    "                                    port1 = notch_port(freqs_to_plot_sp, S21)\n",
    "                                    print('New fit')\n",
    "                                    port1.autofit()\n",
    "                            \n",
    "                                if (port1.fitresults['Ql_err']/port1.fitresults['Ql']<0.3 \n",
    "                                    and port1.fitresults['Ql_err']<1e11\n",
    "                                    and port1.fitresults['Ql']>0 \n",
    "                                    and port1.fitresults['Ql']<1e7\n",
    "                                    and port1.fitresults['Qi_no_corr']>0\n",
    "                                    and port1.fitresults['absQc']>0):\n",
    "\n",
    "                                    good_temps = np.append(good_temps, temps[p])\n",
    "                                    resonanse_freq = np.append(resonanse_freq, port1.fitresults['fr'])\n",
    "                                    resonanse_ql = np.append(resonanse_ql, port1.fitresults['Ql'])\n",
    "                                    resonanse_qc = np.append(resonanse_qc, port1.fitresults['absQc'])\n",
    "                                    resonanse_qi = np.append(resonanse_qi, port1.fitresults['Qi_no_corr'])\n",
    "\n",
    "                                    resonanse_freq_err = np.append(resonanse_freq_err, port1.fitresults['fr_err'])\n",
    "                                    resonanse_ql_err = np.append(resonanse_ql_err, port1.fitresults['Ql_err'])\n",
    "                                    resonanse_qc_err = np.append(resonanse_qc_err, port1.fitresults['absQc_err'])\n",
    "                                    resonanse_qi_err = np.append(resonanse_qi_err, port1.fitresults['Qi_no_corr_err'])\n",
    "                                    print(port1.fitresults['fr']/1e9-4.6125)\n",
    "\n",
    "                                    try:\n",
    "                                        if len(freqs) > 0 and len(mags[p]) > 0:\n",
    "                                            fig, ax = plt.subplots(nrows=1, ncols=2, figsize=(15, 7), sharex = True) \n",
    "                                            ax[0].set_ylabel(f\"TEMP: {temps[p]}\")\n",
    "                                            ax[0].plot(freqs_to_plot, mags_to_plot)\n",
    "                                            ax[1].plot(freqs_to_plot, phas_to_plot)\n",
    "                                            ax[0].axvline(x=port1.fitresults['fr'], color='green', linestyle='-')\n",
    "                                            ax[0].grid()\n",
    "                                            ax[1].grid()\n",
    "                        #                   time.sleep(1)\n",
    "                                            print(\"-------> 2nd Fit\")\n",
    "                                    except:\n",
    "                                        print(\"Fatal error\")\n",
    "                                else: \n",
    "                                    fig, ax = plt.subplots(nrows=1, ncols=2, figsize=(15, 7), sharex = True) \n",
    "                                    ax[0].set_ylabel(f\"TEMP: {temps[p]}\")\n",
    "                                    ax[0].plot(freqs_to_plot, mags_to_plot)\n",
    "                                    ax[1].plot(freqs_to_plot, phas_to_plot)\n",
    "\n",
    "                            except:\n",
    "                                print(\"Fatal error\")\n",
    "\n",
    "                    except:\n",
    "                        print(\"Fatal error\")\n",
    "                \n",
    "        except: \n",
    "            try:\n",
    "                print(\"---> Just plotted\")\n",
    "                if len(freqs) > 0 and len(mags[p]) > 0:\n",
    "                    mags_to_plot = mags[p]\n",
    "                    idx_cut = 0\n",
    "                    while mags_to_plot[idx_cut]<0 and idx_cut<len(mags_to_plot)-1:\n",
    "                        idx_cut = idx_cut+1\n",
    "                    mags_to_plot = mags_to_plot[:idx_cut]\n",
    "                    phas_to_plot = (phas[p])[:idx_cut]\n",
    "                    freqs_to_plot = freqs[:idx_cut]\n",
    "\n",
    "                    cs = CubicSpline(freqs_to_plot, mags_to_plot)\n",
    "                    freqs_to_plot_sp = np.linspace(freqs_to_plot.min(), freqs_to_plot.max(), 600)\n",
    "                    mags_to_plot_sp = cs(freqs_to_plot_sp)\n",
    "\n",
    "                    cs = CubicSpline(freqs_to_plot, phas_to_plot)\n",
    "                    freqs_to_plot_sp = np.linspace(freqs_to_plot.min(), freqs_to_plot.max(), 600)\n",
    "                    phas_to_plot_sp = cs(freqs_to_plot_sp)\n",
    "\n",
    "                    fig, ax = plt.subplots(nrows=1, ncols=2, figsize=(15, 7), sharex = True) \n",
    "                    ax[0].set_ylabel(f\"TEMP: {temps[p]}\")\n",
    "                    ax[0].plot(freqs_to_plot, mags_to_plot)\n",
    "                    ax[1].plot(freqs_to_plot, phas_to_plot)\n",
    "                    ax[0].plot(freqs_to_plot_sp, mags_to_plot_sp)\n",
    "                    ax[1].plot(freqs_to_plot_sp, phas_to_plot_sp)\n",
    "                    ax[0].grid()\n",
    "                    ax[1].grid()\n",
    "                else: \n",
    "                    fig, ax = plt.subplots(nrows=1, ncols=2, figsize=(15, 7), sharex = True) \n",
    "                    ax[0].set_ylabel(f\"TEMP: {temps[p]}\")\n",
    "                    ax[0].plot(freqs, mags[p])\n",
    "                    ax[1].plot(freqs, phas[p])\n",
    "                    ax[0].grid()\n",
    "                    ax[1].grid()\n",
    "            except:\n",
    "                print(\"Fatal error\")\n",
    "#         time.sleep(1)\n",
    "\n",
    "            \n",
    "    \n",
    "    file_directory = r\"C:\\Users\\mukha\\Documents\\Python Scripts\\Kantele\\Kantele_git\\Data\\Temperature_sweep\\Fitted_data\" \n",
    "    sample = sample_folders[sample_i_selected]\n",
    "    meas = sample_measurements[measurement_i_selected]\n",
    "    file_name = \"Circlefit_res_\" + str(resonator) + \".mat\"\n",
    "    sample_address = file_directory+\"\\\\\"+sample+\"\\\\\"+meas+\"\\\\\"+file_name\n",
    "\n",
    "    fitting_state = dict()\n",
    "    fitting_state['resonanse_freq'] = resonanse_freq\n",
    "    fitting_state['resonanse_ql'] = resonanse_ql\n",
    "    fitting_state['resonanse_qc'] = resonanse_qc\n",
    "    fitting_state['resonanse_qi'] = resonanse_qi\n",
    "    fitting_state['resonanse_freq_err'] = resonanse_freq_err\n",
    "    fitting_state['resonanse_ql_err'] = resonanse_ql_err\n",
    "    fitting_state['resonanse_qc_err'] = resonanse_qc_err\n",
    "    fitting_state['resonanse_qi_err'] = resonanse_qi_err\n",
    "\n",
    "    fitting_state['good_temps'] = good_temps\n",
    "\n",
    "    fitting_state['original_file'] = file_address\n",
    "    fitting_state['additional_room_attenuation'] = 20\n",
    "    fitting_state['sample'] = sample\n",
    "\n",
    "\n",
    "    savemat(sample_address, fitting_state)"
   ]
  },
  {
   "cell_type": "code",
   "execution_count": null,
   "id": "d66af1ea",
   "metadata": {},
   "outputs": [],
   "source": []
  },
  {
   "cell_type": "code",
   "execution_count": null,
   "id": "77b73a5f",
   "metadata": {},
   "outputs": [],
   "source": []
  },
  {
   "cell_type": "code",
   "execution_count": null,
   "id": "9164525f",
   "metadata": {},
   "outputs": [],
   "source": []
  },
  {
   "cell_type": "code",
   "execution_count": 43,
   "id": "80890a74",
   "metadata": {
    "ExecuteTime": {
     "end_time": "2025-05-27T16:33:01.322267Z",
     "start_time": "2025-05-27T16:33:01.316266Z"
    }
   },
   "outputs": [],
   "source": [
    "data = np.array([\n",
    "    [3.2, 7.05167377],\n",
    "    [3.0, 7.05174713],\n",
    "    [2.9, 7.05173315],\n",
    "    [2.8, 7.0517385],\n",
    "    [2.42, 7.0516844],\n",
    "    [1.9, 7.05172901],\n",
    "])\n",
    "\n",
    "# Разделяем на два массива по столбикам\n",
    "man_temp = data[:, 0]\n",
    "man_fr = data[:, 1]"
   ]
  },
  {
   "cell_type": "code",
   "execution_count": 33,
   "id": "3ca4d1f5",
   "metadata": {
    "ExecuteTime": {
     "end_time": "2025-05-27T16:28:29.595535Z",
     "start_time": "2025-05-27T16:28:29.561415Z"
    }
   },
   "outputs": [
    {
     "data": {
      "text/plain": [
       "7.0517331500000004"
      ]
     },
     "execution_count": 33,
     "metadata": {},
     "output_type": "execute_result"
    }
   ],
   "source": [
    "a = 7.0517294+7.0517369\n",
    "a/2"
   ]
  },
  {
   "cell_type": "code",
   "execution_count": 44,
   "id": "bce934cd",
   "metadata": {
    "ExecuteTime": {
     "end_time": "2025-05-27T16:33:03.606755Z",
     "start_time": "2025-05-27T16:33:03.586743Z"
    }
   },
   "outputs": [],
   "source": [
    "man_fits_folder = r\"C:\\Users\\mukha\\Documents\\Python Scripts\\Kantele\\Kantele_git\\Data\\Temperature_sweep\\Fitted_data\\S5W2.7\\Qannual_fits\"\n",
    "\n",
    "file_name = \"Manfit_res_\" + str(resonator) + \".mat\"\n",
    "man_file = man_fits_folder+\"\\\\\" + file_name\n",
    "    \n",
    "man_fitting_state = dict()\n",
    "\n",
    "man_fitting_state['man_temp'] = man_temp\n",
    "man_fitting_state['man_fr'] = man_fr\n",
    "\n",
    "savemat(man_file, man_fitting_state)"
   ]
  },
  {
   "cell_type": "code",
   "execution_count": null,
   "id": "5897a024",
   "metadata": {},
   "outputs": [],
   "source": []
  }
 ],
 "metadata": {
  "kernelspec": {
   "display_name": "Python 3",
   "language": "python",
   "name": "python3"
  },
  "language_info": {
   "codemirror_mode": {
    "name": "ipython",
    "version": 3
   },
   "file_extension": ".py",
   "mimetype": "text/x-python",
   "name": "python",
   "nbconvert_exporter": "python",
   "pygments_lexer": "ipython3",
   "version": "3.8.18"
  }
 },
 "nbformat": 4,
 "nbformat_minor": 5
}
